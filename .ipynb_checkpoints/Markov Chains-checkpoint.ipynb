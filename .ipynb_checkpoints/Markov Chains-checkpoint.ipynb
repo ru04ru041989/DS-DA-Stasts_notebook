{
 "cells": [
  {
   "cell_type": "markdown",
   "metadata": {},
   "source": [
    "ref: \n",
    "> https://www.datacamp.com/community/tutorials/markov-chains-python-tutorial  \n",
    "> https://zhuanlan.zhihu.com/p/37121528"
   ]
  },
  {
   "cell_type": "code",
   "execution_count": 2,
   "metadata": {},
   "outputs": [],
   "source": [
    "import random\n",
    "import math\n",
    "import matplotlib.pyplot as plt\n",
    "import seaborn as sns\n",
    "import numpy as np"
   ]
  },
  {
   "cell_type": "markdown",
   "metadata": {},
   "source": [
    "A Markov chain is a mathematical system usually defined as a collection of random variables, that transition from one state to another according to certain probabilistic rules.\n",
    "\n",
    "Markov Property: \n",
    "\n",
    ">1. the probability of transitioning to any particular state is dependent solely on the current state and time elapsed, and not on the sequence of state that preceded it.\n",
    ">2. Memoryless\n",
    "\n",
    "Usage:\n",
    "- In Statistics: broadly use in statistical specially Bayesian statistics and information-theoretical contexts. \n",
    "- In real-world problems: postulate solutions to study cruise control systems in motor vehicles, queues or lines of customers arriving at an airport, exchange rates of currencies, etc."
   ]
  },
  {
   "cell_type": "markdown",
   "metadata": {},
   "source": [
    "## Markov Chain\n",
    "\n",
    "A Markov chain is a random process with the Markov property.\n",
    "\n",
    "A Markov chain has either discrete state space (set of possible values of the random variables) or discrete index set (often representing time) - given the fact, many variations for a Markov chain exists.\n",
    "\n",
    "Usually the term \"Markov chain\" is reserved for a process with a discrete set of times, that is a Discrete Time Markov chain (DTMC)."
   ]
  },
  {
   "attachments": {
    "image.png": {
     "image/png": "[encoded data removed]"
    }
   },
   "cell_type": "markdown",
   "metadata": {},
   "source": [
    "#### Discrete Time Markov Chain (DTMC)\n",
    "- A system which is in a certain state at each step, with the state changing randomly between steps.\n",
    "\n",
    "- A sequence of random variables X1, X2, X3, ... with the Markov property, such that the probability of moving to the next state depends only on the present state and not on the previous states.\n",
    "\n",
    "- Mathematical probabilistic formula:\n",
    "![image.png](attachment:image.png)\n",
    "\n",
    "                Pr( Xn+1 = x | X1 = x1, X2 = x2, …, Xn = xn) = Pr( Xn+1 = x | Xn = xn)\n",
    "        the probability of Xn+1 only depends on the probability of Xn that precedes it\n",
    "        \n",
    "- State space (possible values of Xi): can be anything: letters, numbers, basketball scores or weather conditions.\n"
   ]
  },
  {
   "cell_type": "markdown",
   "metadata": {},
   "source": [
    "#### Model\n",
    "- Transition matrix:\n",
    "\n",
    "> With N possible states, the matrix will be an N x N matrix, such that entry (I, J) is the probability of transitioning from state I to state J. \n",
    "> Additionally, the transition matrix must be a stochastic matrix, a matrix whose entries in each row must add up to exactly 1.\n",
    "\n",
    "- Every state in the state space is included once as a row and again as a column, and each cell in the matrix tells you the probability of transitioning from its row's state to its column's state."
   ]
  },
  {
   "cell_type": "markdown",
   "metadata": {},
   "source": [
    "example1:\n",
    "<img src='http://res.cloudinary.com/dyd911kmh/image/upload/f_auto,q_auto:best/v1523011817/state_diagram_pfkfld.png'>\n",
    "\n",
    "possible states: sleep, run, icecream  \n",
    "transition matrix: 3 X 3 matrix as follow:\n",
    "<img src='http://res.cloudinary.com/dyd911kmh/image/upload/f_auto,q_auto:best/v1523011817/transition_matrix_gj27nq.png'>"
   ]
  },
  {
   "cell_type": "markdown",
   "metadata": {},
   "source": [
    "we can answer questions like:\n",
    "> Starting from the state: sleep, what is the probability that this person will be running (state: run) at the end of a sad 2-day duration?\n",
    "\n",
    "        cur_state  >  first move(first day)    >   seconde move\n",
    "          sleep    >    sleep                  >      run\n",
    "          sleep    >    run                    >      run\n",
    "          sleep    >    ice cream              >      run\n",
    "    \n",
    "        probability for row 1:\n",
    "            sleep > sleep: 0.2, sleep > run: 0.6 -> p = 0.2*0.6\n",
    "        probability for row 2:\n",
    "            sleep > run: 0.6, run > run: 0.6 -> p = 0.6*0.6\n",
    "        probability for row 3:\n",
    "            sleep > ice cream: 0.2, ice cream > run: 0.7 -> p=0.2*0.7\n",
    "        \n",
    "        sum the probability for these three is the answer of the question:\n",
    "            ((0.2 ⋅ 0.6) + (0.6 ⋅ 0.6) + (0.2 ⋅ 0.7)) = 0.62"
   ]
  },
  {
   "attachments": {
    "image.png": {
     "image/png": "[encoded data removed]"
    }
   },
   "cell_type": "markdown",
   "metadata": {},
   "source": [
    "example2:\n",
    "\n",
    "<img src='https://pic1.zhimg.com/80/v2-ec1b67de2537cfebb4cd8d6bc4811840_720w.jpg'>\n",
    "\n",
    "transition matrix:\n",
    "    ![image.png](attachment:image.png)"
   ]
  },
  {
   "cell_type": "markdown",
   "metadata": {},
   "source": [
    "if the probability of the starting state is [0.5, 0.3, 0.2] (ie. at t0, 50% chance is cheerful, 30% so-so, 20% sad)  \n",
    "what is the probability of each state at t100?"
   ]
  },
  {
   "cell_type": "code",
   "execution_count": 41,
   "metadata": {},
   "outputs": [],
   "source": [
    "# set up the parameter\n",
    "transfer_matrix = np.array([[0.6,0.2,0.2],\n",
    "                            [0.3,0.4,0.3],\n",
    "                            [0,0.3,0.7]],dtype='float32')\n",
    "\n",
    "start_matrix = np.array([0.5,0.3,0.2],dtype='float32')"
   ]
  },
  {
   "cell_type": "code",
   "execution_count": 5,
   "metadata": {},
   "outputs": [],
   "source": [
    "# start loop till t100\n",
    "rep_n = 30\n",
    "\n",
    "# prob of each state\n",
    "s1_prob=[]\n",
    "s2_prob=[]\n",
    "s3_prob=[]"
   ]
  },
  {
   "cell_type": "code",
   "execution_count": 6,
   "metadata": {},
   "outputs": [],
   "source": [
    "# start looping\n",
    "state_matrix = start_matrix.copy()\n",
    "\n",
    "for i in range(rep_n):\n",
    "    # every iteration, each state is the dot product of state_matrix and transfer_matrix\n",
    "    state_matrix = np.dot(state_matrix, transfer_matrix)\n",
    "    \n",
    "    # keep the record\n",
    "    s1_prob.append(state_matrix[0][0])\n",
    "    s2_prob.append(state_matrix[0][1])\n",
    "    s3_prob.append(state_matrix[0][2])"
   ]
  },
  {
   "cell_type": "code",
   "execution_count": 7,
   "metadata": {},
   "outputs": [
    {
     "name": "stdout",
     "output_type": "stream",
     "text": [
      "[[0.23076935 0.30769244 0.46153864]]\n"
     ]
    }
   ],
   "source": [
    "# here is the probability of each state at t30\n",
    "print(state_matrix)"
   ]
  },
  {
   "cell_type": "code",
   "execution_count": 9,
   "metadata": {},
   "outputs": [
    {
     "data": {
      "image/png": "[encoded data removed]",
      "text/plain": [
       "<Figure size 432x288 with 1 Axes>"
      ]
     },
     "metadata": {
      "needs_background": "light"
     },
     "output_type": "display_data"
    }
   ],
   "source": [
    "# visualization\n",
    "x = np.arange(rep_n)\n",
    "plt.plot(x,s1_prob,label='cheerful')\n",
    "plt.plot(x,s2_prob,label='so-so')\n",
    "plt.plot(x,s3_prob,label='sad')\n",
    "plt.legend()\n",
    "plt.show()"
   ]
  },
  {
   "cell_type": "markdown",
   "metadata": {},
   "source": [
    "notice that at about t10, the probability for each state is almost consistance"
   ]
  },
  {
   "cell_type": "code",
   "execution_count": 44,
   "metadata": {},
   "outputs": [],
   "source": [
    "# funitionalize\n",
    "def MKchain(start_matrix, transfer_matrix, t, state_label=[]):\n",
    "    '''\n",
    "    start_matrix: the probability matrix for started state\n",
    "    transfer_matrix: the transfer_matrix\n",
    "    t: the probability of each state at t time point\n",
    "    '''\n",
    "    state_matrix = start_matrix.copy()\n",
    "    value = []\n",
    "    \n",
    "    for i in range(t):\n",
    "        state_matrix = np.dot(state_matrix,transfer_matrix)\n",
    "        value.append(state_matrix)\n",
    "    \n",
    "    print(state_matrix)\n",
    "\n",
    "    x = np.arange(t)\n",
    "    \n",
    "    for i in range(len(state_matrix)):\n",
    "        val = [v[i] for v in value]\n",
    "        \n",
    "        if state_label:\n",
    "            label = state_label[i]\n",
    "            plt.plot(x,val,label=label)\n",
    "        else:\n",
    "            plt.plot(x,val,label='State'+str(i+1))\n",
    "    \n",
    "    plt.legend()\n",
    "    plt.show()\n",
    "    "
   ]
  },
  {
   "cell_type": "code",
   "execution_count": 45,
   "metadata": {},
   "outputs": [
    {
     "data": {
      "text/plain": [
       "array([0.5, 0.3, 0.2], dtype=float32)"
      ]
     },
     "execution_count": 45,
     "metadata": {},
     "output_type": "execute_result"
    }
   ],
   "source": [
    "start_matrix"
   ]
  },
  {
   "cell_type": "code",
   "execution_count": 46,
   "metadata": {},
   "outputs": [
    {
     "name": "stdout",
     "output_type": "stream",
     "text": [
      "[0.23076935 0.30769244 0.46153864]\n"
     ]
    },
    {
     "data": {
      "image/png": "[encoded data removed]",
      "text/plain": [
       "<Figure size 432x288 with 1 Axes>"
      ]
     },
     "metadata": {
      "needs_background": "light"
     },
     "output_type": "display_data"
    }
   ],
   "source": [
    "state_label=['cheerful', 'so-so', 'sad']\n",
    "MKchain(start_matrix,transfer_matrix,30, state_label)"
   ]
  },
  {
   "cell_type": "markdown",
   "metadata": {},
   "source": [
    "Let's try another prob of started state ([0.2,0.3,0.5]"
   ]
  },
  {
   "cell_type": "code",
   "execution_count": 47,
   "metadata": {},
   "outputs": [
    {
     "name": "stdout",
     "output_type": "stream",
     "text": [
      "[0.23076936 0.30769246 0.46153867]\n"
     ]
    },
    {
     "data": {
      "image/png": "[encoded data removed]",
      "text/plain": [
       "<Figure size 432x288 with 1 Axes>"
      ]
     },
     "metadata": {
      "needs_background": "light"
     },
     "output_type": "display_data"
    }
   ],
   "source": [
    "MKchain([0.2,0.3,0.5], transfer_matrix,30, state_label)"
   ]
  },
  {
   "cell_type": "markdown",
   "metadata": {},
   "source": [
    "Eventhough we try a different prob for initial state, it converted to a stable prob\n",
    "\n",
    "it means that this final stable prob is not associated with the prob of the initial state"
   ]
  },
  {
   "cell_type": "code",
   "execution_count": null,
   "metadata": {},
   "outputs": [],
   "source": []
  }
 ],
 "metadata": {
  "kernelspec": {
   "display_name": "Python 3",
   "language": "python",
   "name": "python3"
  },
  "language_info": {
   "codemirror_mode": {
    "name": "ipython",
    "version": 3
   },
   "file_extension": ".py",
   "mimetype": "text/x-python",
   "name": "python",
   "nbconvert_exporter": "python",
   "pygments_lexer": "ipython3",
   "version": "3.7.7"
  }
 },
 "nbformat": 4,
 "nbformat_minor": 4
}
