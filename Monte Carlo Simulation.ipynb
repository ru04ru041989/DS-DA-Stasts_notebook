{
 "cells": [
  {
   "cell_type": "markdown",
   "metadata": {},
   "source": [
    "ref: https://pbpython.com/monte-carlo.html"
   ]
  },
  {
   "cell_type": "markdown",
   "metadata": {},
   "source": [
    "# Monte Carlo Analysis (Simulation)\n",
    "Predict the range of potential value\n",
    "\n",
    "Monte Carlo analysis (or simulation) involves running many scenarios with different random inputs and summarizing the distribution of the results."
   ]
  },
  {
   "cell_type": "markdown",
   "metadata": {},
   "source": [
    "### example: predict sales commission\n",
    "\n",
    "commission formula:\n",
    "\n",
    "       commission Amount = Actual Sales * Commission Rate\n",
    "       \n",
    "       commission rate:\n",
    "<img src='https://pbpython.com/images/Excel_Table_4.png'/>"
   ]
  },
  {
   "cell_type": "markdown",
   "metadata": {},
   "source": [
    "#### Naive approach"
   ]
  },
  {
   "cell_type": "markdown",
   "metadata": {},
   "source": [
    "One approach might be to assume everyone makes 100% of their target and earns the 4% commission rate. Plugging these values into Excel yields this:\n",
    "\n",
    "<img src='https://pbpython.com/images/Excel_Table_2.png' width=800 height=600/abs>"
   ]
  },
  {
   "cell_type": "markdown",
   "metadata": {},
   "source": [
    "Problem: in real world, we never have same commission rate for everyone\n",
    "solution: run some senario and try a couple of ranges:\n",
    "<img src='https://pbpython.com/images/Excel_Table_5.png' width=800 height=600/abs>\n",
    "<img src='https://pbpython.com/images/Excel_Table_6.png' width=800 height=600/abs>"
   ]
  },
  {
   "cell_type": "markdown",
   "metadata": {},
   "source": [
    "Problem: what is the confidence in this range? what if we need the model for 500 sales or several different rate or actual sales value?\n",
    "\n",
    "\n",
    "Solution: using Monte Carlo simulation to iterate through th process:\n",
    "> - determine a range of potential result (commission values)\n",
    "> - increase the iteration or initial parameter to fit the model for more sales or different rate/sales value"
   ]
  },
  {
   "cell_type": "markdown",
   "metadata": {},
   "source": [
    "#### Monte Carlo approach\n",
    "> componments to run a Monte Carlo simulation:\n",
    "> - the equation to evaluate\n",
    "> - the random variables for the input\n",
    "\n",
    "need to decide how many iteration (number of simulations) and how many data for a set (in this example, its how many sales reps)"
   ]
  },
  {
   "cell_type": "code",
   "execution_count": 3,
   "metadata": {},
   "outputs": [],
   "source": [
    "# import package and plotting style\n",
    "import pandas as pd\n",
    "import numpy as np\n",
    "import seaborn as sns\n",
    "\n",
    "sns.set_style('whitegrid')"
   ]
  },
  {
   "cell_type": "code",
   "execution_count": 4,
   "metadata": {},
   "outputs": [],
   "source": [
    "# initial parameters:\n",
    "num_reps = 500\n",
    "num_simulations = 1000"
   ]
  },
  {
   "cell_type": "markdown",
   "metadata": {},
   "source": [
    "equation: address above:\n",
    "> commission Amount = Actual Sales * Commission Rate\n",
    "\n",
    "random variables for the equation:\n",
    "> commission rate (from rate target): \n",
    ">> - take a random number between 0%-200% (the intuition about commissions rate)\n",
    ">> - base on historial data (the distribution of the commission rate)\n",
    "\n",
    "> actual sales:\n",
    ">> - base on historical data\n",
    ">> a random number that within a reasonable range"
   ]
  },
  {
   "cell_type": "markdown",
   "metadata": {},
   "source": [
    "- for commission rate target distribution:  \n",
    "Base on historical data:  \n",
    "<img src='https://pbpython.com/images/monte_carlo_image_hist_pct.png' width=400 height=300/>  \n",
    "It looks like a normal distribution with a mean of 100 and sd of 10.  \n",
    "We can use this information to model our input variable for commission rate\n"
   ]
  },
  {
   "cell_type": "code",
   "execution_count": 5,
   "metadata": {},
   "outputs": [],
   "source": [
    "# paramater for generate random input for commission rate\n",
    "avg = 1\n",
    "std_dev=.1\n",
    "\n",
    "# the distribution of the commission rate is normal distribution\n",
    "comm_rate_target = np.random.normal(avg, std_dev, num_reps).round(2)"
   ]
  },
  {
   "cell_type": "code",
   "execution_count": 6,
   "metadata": {},
   "outputs": [
    {
     "data": {
      "text/plain": [
       "array([0.92, 1.08, 1.05, 1.1 , 1.1 , 1.08, 1.1 , 1.1 , 1.14, 0.84])"
      ]
     },
     "execution_count": 6,
     "metadata": {},
     "output_type": "execute_result"
    }
   ],
   "source": [
    "# first 10 items look like:\n",
    "comm_rate_target[:10]"
   ]
  },
  {
   "cell_type": "markdown",
   "metadata": {},
   "source": [
    "- for actual sales distribution:\n",
    "Base on historical data:  \n",
    "<img src='https://pbpython.com/images/monte_carlo_sales_target.png' width=400 heigh=300/>\n",
    "It is not a normal distribution. There are 6 buckets and the frequency gets lower as the amount increases\n",
    "\n",
    "\n",
    "This distribution could be indicative of a very simple target setting process where individuals are bucketed into certain groups and given targets consistently based on their tenure, territory size or sales pipeline."
   ]
  },
  {
   "cell_type": "code",
   "execution_count": 7,
   "metadata": {},
   "outputs": [],
   "source": [
    "'''\n",
    "Use a uniform distribution with a lower probability rates for some of the values\n",
    "build this using numpy.random.choice \n",
    "(https://het.as.utexas.edu/HET/Software/Numpy/reference/generated/numpy.random.choice.html)\n",
    "'''\n",
    "\n",
    "sales_values = [75000, 100000, 200000, 300000, 400000, 500000]\n",
    "sales_prob = [.3, .3, .2, .1, .05, .05]\n",
    "sales_target = np.random.choice(sales_values, num_reps, p=sales_prob)"
   ]
  },
  {
   "cell_type": "code",
   "execution_count": 8,
   "metadata": {},
   "outputs": [
    {
     "data": {
      "text/plain": [
       "array([200000, 100000,  75000, 100000,  75000, 200000, 100000,  75000,\n",
       "       400000, 100000])"
      ]
     },
     "execution_count": 8,
     "metadata": {},
     "output_type": "execute_result"
    }
   ],
   "source": [
    "sales_target[:10]"
   ]
  },
  {
   "cell_type": "markdown",
   "metadata": {},
   "source": [
    "Above is our two input distributions, let's integrate this into a dataframe and generate a sale values:  \n",
    "for the sales value, we use performance distribution (comm_rate target) base on the historical data to generate actual sales"
   ]
  },
  {
   "cell_type": "code",
   "execution_count": 15,
   "metadata": {},
   "outputs": [],
   "source": [
    "df = pd.DataFrame(index=range(num_reps), data={'comm_rate_target': comm_rate_target,\n",
    "                                              'sales_target': sales_target})\n",
    "df['sales'] = df['comm_rate_target']*df['sales_target']"
   ]
  },
  {
   "cell_type": "code",
   "execution_count": 16,
   "metadata": {},
   "outputs": [
    {
     "data": {
      "text/html": [
       "<div>\n",
       "<style scoped>\n",
       "    .dataframe tbody tr th:only-of-type {\n",
       "        vertical-align: middle;\n",
       "    }\n",
       "\n",
       "    .dataframe tbody tr th {\n",
       "        vertical-align: top;\n",
       "    }\n",
       "\n",
       "    .dataframe thead th {\n",
       "        text-align: right;\n",
       "    }\n",
       "</style>\n",
       "<table border=\"1\" class=\"dataframe\">\n",
       "  <thead>\n",
       "    <tr style=\"text-align: right;\">\n",
       "      <th></th>\n",
       "      <th>comm_rate_target</th>\n",
       "      <th>sales_target</th>\n",
       "      <th>sales</th>\n",
       "    </tr>\n",
       "  </thead>\n",
       "  <tbody>\n",
       "    <tr>\n",
       "      <th>0</th>\n",
       "      <td>0.92</td>\n",
       "      <td>200000</td>\n",
       "      <td>184000.0</td>\n",
       "    </tr>\n",
       "    <tr>\n",
       "      <th>1</th>\n",
       "      <td>1.08</td>\n",
       "      <td>100000</td>\n",
       "      <td>108000.0</td>\n",
       "    </tr>\n",
       "    <tr>\n",
       "      <th>2</th>\n",
       "      <td>1.05</td>\n",
       "      <td>75000</td>\n",
       "      <td>78750.0</td>\n",
       "    </tr>\n",
       "    <tr>\n",
       "      <th>3</th>\n",
       "      <td>1.10</td>\n",
       "      <td>100000</td>\n",
       "      <td>110000.0</td>\n",
       "    </tr>\n",
       "    <tr>\n",
       "      <th>4</th>\n",
       "      <td>1.10</td>\n",
       "      <td>75000</td>\n",
       "      <td>82500.0</td>\n",
       "    </tr>\n",
       "  </tbody>\n",
       "</table>\n",
       "</div>"
      ],
      "text/plain": [
       "   comm_rate_target  sales_target     sales\n",
       "0              0.92        200000  184000.0\n",
       "1              1.08        100000  108000.0\n",
       "2              1.05         75000   78750.0\n",
       "3              1.10        100000  110000.0\n",
       "4              1.10         75000   82500.0"
      ]
     },
     "execution_count": 16,
     "metadata": {},
     "output_type": "execute_result"
    }
   ],
   "source": [
    "df.head()"
   ]
  },
  {
   "cell_type": "markdown",
   "metadata": {},
   "source": [
    "Check if the distributions of these two variables are the same as how we expected"
   ]
  },
  {
   "cell_type": "code",
   "execution_count": 34,
   "metadata": {},
   "outputs": [
    {
     "data": {
      "text/plain": [
       "<matplotlib.axes._subplots.AxesSubplot at 0x22c42dcb888>"
      ]
     },
     "execution_count": 34,
     "metadata": {},
     "output_type": "execute_result"
    },
    {
     "data": {
      "image/png": "[encoded data removed]",
      "text/plain": [
       "<Figure size 432x288 with 1 Axes>"
      ]
     },
     "metadata": {},
     "output_type": "display_data"
    }
   ],
   "source": [
    "# Simple histogram to confirm distribution looks as expected\n",
    "df['comm_rate_target'].plot(kind='hist', title='Historical % to Target Distribution')"
   ]
  },
  {
   "cell_type": "code",
   "execution_count": 35,
   "metadata": {},
   "outputs": [
    {
     "data": {
      "text/plain": [
       "<matplotlib.axes._subplots.AxesSubplot at 0x22c42f02e88>"
      ]
     },
     "execution_count": 35,
     "metadata": {},
     "output_type": "execute_result"
    },
    {
     "data": {
      "image/png": "[encoded data removed]",
      "text/plain": [
       "<Figure size 432x288 with 1 Axes>"
      ]
     },
     "metadata": {},
     "output_type": "display_data"
    }
   ],
   "source": [
    "# Look at the sales target distribution\n",
    "df['sales_target'].plot(kind='hist', title='Historical Sales Target Distribution')"
   ]
  },
  {
   "cell_type": "markdown",
   "metadata": {},
   "source": [
    "create a way to map comm_rate target to comm_rate"
   ]
  },
  {
   "cell_type": "code",
   "execution_count": 14,
   "metadata": {},
   "outputs": [],
   "source": [
    "def calc_commission_rate(x):\n",
    "    \"\"\" Return the commission rate based on the table:\n",
    "    0-90% = 2%\n",
    "    91-99% = 3%\n",
    "    >= 100 = 4%\n",
    "    \"\"\"\n",
    "    if x <= .90:\n",
    "        return .02\n",
    "    if x <= .99:\n",
    "        return .03\n",
    "    else:\n",
    "        return .04"
   ]
  },
  {
   "cell_type": "markdown",
   "metadata": {},
   "source": [
    "Adding commission rate and commission amount into df"
   ]
  },
  {
   "cell_type": "code",
   "execution_count": 17,
   "metadata": {},
   "outputs": [],
   "source": [
    "df['comm_rate'] = df['comm_rate_target'].apply(calc_commission_rate)\n",
    "df['comm_amount'] = df['comm_rate'] * df['sales']"
   ]
  },
  {
   "cell_type": "code",
   "execution_count": 18,
   "metadata": {},
   "outputs": [
    {
     "data": {
      "text/html": [
       "<div>\n",
       "<style scoped>\n",
       "    .dataframe tbody tr th:only-of-type {\n",
       "        vertical-align: middle;\n",
       "    }\n",
       "\n",
       "    .dataframe tbody tr th {\n",
       "        vertical-align: top;\n",
       "    }\n",
       "\n",
       "    .dataframe thead th {\n",
       "        text-align: right;\n",
       "    }\n",
       "</style>\n",
       "<table border=\"1\" class=\"dataframe\">\n",
       "  <thead>\n",
       "    <tr style=\"text-align: right;\">\n",
       "      <th></th>\n",
       "      <th>comm_rate_target</th>\n",
       "      <th>sales_target</th>\n",
       "      <th>sales</th>\n",
       "      <th>comm_rate</th>\n",
       "      <th>comm_amount</th>\n",
       "    </tr>\n",
       "  </thead>\n",
       "  <tbody>\n",
       "    <tr>\n",
       "      <th>0</th>\n",
       "      <td>0.92</td>\n",
       "      <td>200000</td>\n",
       "      <td>184000.0</td>\n",
       "      <td>0.03</td>\n",
       "      <td>5520.0</td>\n",
       "    </tr>\n",
       "    <tr>\n",
       "      <th>1</th>\n",
       "      <td>1.08</td>\n",
       "      <td>100000</td>\n",
       "      <td>108000.0</td>\n",
       "      <td>0.04</td>\n",
       "      <td>4320.0</td>\n",
       "    </tr>\n",
       "    <tr>\n",
       "      <th>2</th>\n",
       "      <td>1.05</td>\n",
       "      <td>75000</td>\n",
       "      <td>78750.0</td>\n",
       "      <td>0.04</td>\n",
       "      <td>3150.0</td>\n",
       "    </tr>\n",
       "    <tr>\n",
       "      <th>3</th>\n",
       "      <td>1.10</td>\n",
       "      <td>100000</td>\n",
       "      <td>110000.0</td>\n",
       "      <td>0.04</td>\n",
       "      <td>4400.0</td>\n",
       "    </tr>\n",
       "    <tr>\n",
       "      <th>4</th>\n",
       "      <td>1.10</td>\n",
       "      <td>75000</td>\n",
       "      <td>82500.0</td>\n",
       "      <td>0.04</td>\n",
       "      <td>3300.0</td>\n",
       "    </tr>\n",
       "  </tbody>\n",
       "</table>\n",
       "</div>"
      ],
      "text/plain": [
       "   comm_rate_target  sales_target     sales  comm_rate  comm_amount\n",
       "0              0.92        200000  184000.0       0.03       5520.0\n",
       "1              1.08        100000  108000.0       0.04       4320.0\n",
       "2              1.05         75000   78750.0       0.04       3150.0\n",
       "3              1.10        100000  110000.0       0.04       4400.0\n",
       "4              1.10         75000   82500.0       0.04       3300.0"
      ]
     },
     "execution_count": 18,
     "metadata": {},
     "output_type": "execute_result"
    }
   ],
   "source": [
    "df.head()"
   ]
  },
  {
   "cell_type": "markdown",
   "metadata": {},
   "source": [
    "df is the model that we would have done in Excel in Navie approach.\n",
    "\n",
    "Next step is to loop, stimulated models and its result.\n",
    "from the distribution of those stiumlation and the result, we can establish the confidence of the result should be"
   ]
  },
  {
   "cell_type": "code",
   "execution_count": 23,
   "metadata": {},
   "outputs": [],
   "source": [
    "def MC_approach_commission_amount(num_reps=num_reps, num_simulations=num_simulations):\n",
    "    \n",
    "    # paramater for random input for comm_rate_tartet\n",
    "    avg = 1\n",
    "    std_dev=.1\n",
    "    \n",
    "    # paramater for random input for sales\n",
    "    sales_values = [75000, 100000, 200000, 300000, 400000, 500000]\n",
    "    sales_prob = [.3, .3, .2, .1, .05, .05]\n",
    "\n",
    "\n",
    "    # a list to keep all the results for each simulation\n",
    "    all_stats = []\n",
    "    \n",
    "    # start simulations\n",
    "    for i in range(num_simulations):\n",
    "        \n",
    "        # random inputs for the equation\n",
    "        sales_target = np.random.choice(sales_values, num_reps, p=sales_prob)\n",
    "        comm_rate_target = np.random.normal(avg, std_dev, num_reps).round(2)\n",
    "        \n",
    "        # df for the modle\n",
    "        df = pd.DataFrame(index=range(num_reps), data={'comm_rate_target': comm_rate_target,\n",
    "                                                       'sales_target': sales_target})\n",
    "        \n",
    "        # using comm_rate_targe to get the actual sales\n",
    "        df['sales'] = df['comm_rate_target'] * df['sales_target']\n",
    "        \n",
    "        # determine the commission rate and calculate commission amount\n",
    "        df['comm_rate'] = df['comm_rate_target'].apply(calc_commission_rate)\n",
    "        df['comm_amount'] = df['comm_rate'] * df['sales']\n",
    "        \n",
    "        # track this in all_stats\n",
    "        all_stats.append([df['sales'].sum().round(0),\n",
    "                          df['comm_amount'].sum().round(0),\n",
    "                          df['sales_target'].sum().round(0)])\n",
    "        \n",
    "    return all_stats\n",
    "        "
   ]
  },
  {
   "cell_type": "code",
   "execution_count": 24,
   "metadata": {},
   "outputs": [],
   "source": [
    "result = MC_approach_commission_amount(num_reps, num_simulations)"
   ]
  },
  {
   "cell_type": "code",
   "execution_count": 26,
   "metadata": {},
   "outputs": [],
   "source": [
    "results_df = pd.DataFrame.from_records(result, columns=['Sales',\n",
    "                                                        'Commission_Amount',\n",
    "                                                       'Sales_Target'])"
   ]
  },
  {
   "cell_type": "code",
   "execution_count": 29,
   "metadata": {},
   "outputs": [
    {
     "data": {
      "text/html": [
       "<style  type=\"text/css\" >\n",
       "</style><table id=\"T_a07d6264_b4ae_11ea_aa3d_dcfb483710ad\" ><thead>    <tr>        <th class=\"blank level0\" ></th>        <th class=\"col_heading level0 col0\" >Sales</th>        <th class=\"col_heading level0 col1\" >Commission_Amount</th>        <th class=\"col_heading level0 col2\" >Sales_Target</th>    </tr></thead><tbody>\n",
       "                <tr>\n",
       "                        <th id=\"T_a07d6264_b4ae_11ea_aa3d_dcfb483710adlevel0_row0\" class=\"row_heading level0 row0\" >count</th>\n",
       "                        <td id=\"T_a07d6264_b4ae_11ea_aa3d_dcfb483710adrow0_col0\" class=\"data row0 col0\" >1,000.0</td>\n",
       "                        <td id=\"T_a07d6264_b4ae_11ea_aa3d_dcfb483710adrow0_col1\" class=\"data row0 col1\" >1,000.0</td>\n",
       "                        <td id=\"T_a07d6264_b4ae_11ea_aa3d_dcfb483710adrow0_col2\" class=\"data row0 col2\" >1,000.0</td>\n",
       "            </tr>\n",
       "            <tr>\n",
       "                        <th id=\"T_a07d6264_b4ae_11ea_aa3d_dcfb483710adlevel0_row1\" class=\"row_heading level0 row1\" >mean</th>\n",
       "                        <td id=\"T_a07d6264_b4ae_11ea_aa3d_dcfb483710adrow1_col0\" class=\"data row1 col0\" >83,833,714.5</td>\n",
       "                        <td id=\"T_a07d6264_b4ae_11ea_aa3d_dcfb483710adrow1_col1\" class=\"data row1 col1\" >2,861,944.153</td>\n",
       "                        <td id=\"T_a07d6264_b4ae_11ea_aa3d_dcfb483710adrow1_col2\" class=\"data row1 col2\" >83,835,200.0</td>\n",
       "            </tr>\n",
       "            <tr>\n",
       "                        <th id=\"T_a07d6264_b4ae_11ea_aa3d_dcfb483710adlevel0_row2\" class=\"row_heading level0 row2\" >std</th>\n",
       "                        <td id=\"T_a07d6264_b4ae_11ea_aa3d_dcfb483710adrow2_col0\" class=\"data row2 col0\" >2,742,761.250412864</td>\n",
       "                        <td id=\"T_a07d6264_b4ae_11ea_aa3d_dcfb483710adrow2_col1\" class=\"data row2 col1\" >104,332.00446709397</td>\n",
       "                        <td id=\"T_a07d6264_b4ae_11ea_aa3d_dcfb483710adrow2_col2\" class=\"data row2 col2\" >2,677,973.1141294157</td>\n",
       "            </tr>\n",
       "            <tr>\n",
       "                        <th id=\"T_a07d6264_b4ae_11ea_aa3d_dcfb483710adlevel0_row3\" class=\"row_heading level0 row3\" >min</th>\n",
       "                        <td id=\"T_a07d6264_b4ae_11ea_aa3d_dcfb483710adrow3_col0\" class=\"data row3 col0\" >75,431,000.0</td>\n",
       "                        <td id=\"T_a07d6264_b4ae_11ea_aa3d_dcfb483710adrow3_col1\" class=\"data row3 col1\" >2,534,582.0</td>\n",
       "                        <td id=\"T_a07d6264_b4ae_11ea_aa3d_dcfb483710adrow3_col2\" class=\"data row3 col2\" >76,225,000.0</td>\n",
       "            </tr>\n",
       "            <tr>\n",
       "                        <th id=\"T_a07d6264_b4ae_11ea_aa3d_dcfb483710adlevel0_row4\" class=\"row_heading level0 row4\" >25%</th>\n",
       "                        <td id=\"T_a07d6264_b4ae_11ea_aa3d_dcfb483710adrow4_col0\" class=\"data row4 col0\" >82,049,250.0</td>\n",
       "                        <td id=\"T_a07d6264_b4ae_11ea_aa3d_dcfb483710adrow4_col1\" class=\"data row4 col1\" >2,794,153.25</td>\n",
       "                        <td id=\"T_a07d6264_b4ae_11ea_aa3d_dcfb483710adrow4_col2\" class=\"data row4 col2\" >82,100,000.0</td>\n",
       "            </tr>\n",
       "            <tr>\n",
       "                        <th id=\"T_a07d6264_b4ae_11ea_aa3d_dcfb483710adlevel0_row5\" class=\"row_heading level0 row5\" >50%</th>\n",
       "                        <td id=\"T_a07d6264_b4ae_11ea_aa3d_dcfb483710adrow5_col0\" class=\"data row5 col0\" >83,864,875.0</td>\n",
       "                        <td id=\"T_a07d6264_b4ae_11ea_aa3d_dcfb483710adrow5_col1\" class=\"data row5 col1\" >2,863,602.5</td>\n",
       "                        <td id=\"T_a07d6264_b4ae_11ea_aa3d_dcfb483710adrow5_col2\" class=\"data row5 col2\" >83,850,000.0</td>\n",
       "            </tr>\n",
       "            <tr>\n",
       "                        <th id=\"T_a07d6264_b4ae_11ea_aa3d_dcfb483710adlevel0_row6\" class=\"row_heading level0 row6\" >75%</th>\n",
       "                        <td id=\"T_a07d6264_b4ae_11ea_aa3d_dcfb483710adrow6_col0\" class=\"data row6 col0\" >85,548,750.0</td>\n",
       "                        <td id=\"T_a07d6264_b4ae_11ea_aa3d_dcfb483710adrow6_col1\" class=\"data row6 col1\" >2,926,784.25</td>\n",
       "                        <td id=\"T_a07d6264_b4ae_11ea_aa3d_dcfb483710adrow6_col2\" class=\"data row6 col2\" >85,456,250.0</td>\n",
       "            </tr>\n",
       "            <tr>\n",
       "                        <th id=\"T_a07d6264_b4ae_11ea_aa3d_dcfb483710adlevel0_row7\" class=\"row_heading level0 row7\" >max</th>\n",
       "                        <td id=\"T_a07d6264_b4ae_11ea_aa3d_dcfb483710adrow7_col0\" class=\"data row7 col0\" >92,795,500.0</td>\n",
       "                        <td id=\"T_a07d6264_b4ae_11ea_aa3d_dcfb483710adrow7_col1\" class=\"data row7 col1\" >3,237,222.0</td>\n",
       "                        <td id=\"T_a07d6264_b4ae_11ea_aa3d_dcfb483710adrow7_col2\" class=\"data row7 col2\" >93,250,000.0</td>\n",
       "            </tr>\n",
       "    </tbody></table>"
      ],
      "text/plain": [
       "<pandas.io.formats.style.Styler at 0x22c40899248>"
      ]
     },
     "execution_count": 29,
     "metadata": {},
     "output_type": "execute_result"
    }
   ],
   "source": [
    "results_df.describe().style.format('{:,}')"
   ]
  },
  {
   "cell_type": "code",
   "execution_count": 32,
   "metadata": {},
   "outputs": [
    {
     "data": {
      "text/plain": [
       "<matplotlib.axes._subplots.AxesSubplot at 0x22c42c21508>"
      ]
     },
     "execution_count": 32,
     "metadata": {},
     "output_type": "execute_result"
    },
    {
     "data": {
      "image/png": "[encoded data removed]",
      "text/plain": [
       "<Figure size 432x288 with 1 Axes>"
      ]
     },
     "metadata": {},
     "output_type": "display_data"
    }
   ],
   "source": [
    "results_df['Commission_Amount'].plot(kind='hist', title='total commission amount')"
   ]
  },
  {
   "cell_type": "code",
   "execution_count": 33,
   "metadata": {},
   "outputs": [
    {
     "data": {
      "text/plain": [
       "<matplotlib.axes._subplots.AxesSubplot at 0x22c42ed3908>"
      ]
     },
     "execution_count": 33,
     "metadata": {},
     "output_type": "execute_result"
    },
    {
     "data": {
      "image/png": "[encoded data removed]",
      "text/plain": [
       "<Figure size 432x288 with 1 Axes>"
      ]
     },
     "metadata": {},
     "output_type": "display_data"
    }
   ],
   "source": [
    "results_df['Sales'].plot(kind='hist')"
   ]
  },
  {
   "cell_type": "code",
   "execution_count": null,
   "metadata": {},
   "outputs": [],
   "source": []
  }
 ],
 "metadata": {
  "kernelspec": {
   "display_name": "Python 3",
   "language": "python",
   "name": "python3"
  },
  "language_info": {
   "codemirror_mode": {
    "name": "ipython",
    "version": 3
   },
   "file_extension": ".py",
   "mimetype": "text/x-python",
   "name": "python",
   "nbconvert_exporter": "python",
   "pygments_lexer": "ipython3",
   "version": "3.7.7"
  }
 },
 "nbformat": 4,
 "nbformat_minor": 4
}
